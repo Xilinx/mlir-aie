{
 "cells": [
  {
   "cell_type": "markdown",
   "id": "0",
   "metadata": {},
   "source": [
    "# Imports"
   ]
  },
  {
   "cell_type": "code",
   "execution_count": null,
   "id": "1",
   "metadata": {},
   "outputs": [],
   "source": [
    "import numpy as np\n",
    "import sys\n",
    "\n",
    "from aie.dialects.aie import *\n",
    "from aie.dialects.aiex import *\n",
    "from aie.extras.context import mlir_mod_ctx\n",
    "from aie.helpers.dialects.ext.func import func\n",
    "from aie.helpers.dialects.ext.scf import _for as range_\n",
    "\n",
    "from aie.utils.xrt import setup_aie, execute as execute_on_aie\n",
    "import aie.utils.test as test_utils"
   ]
  },
  {
   "cell_type": "markdown",
   "id": "2",
   "metadata": {},
   "source": [
    "# Design Configurations"
   ]
  },
  {
   "cell_type": "code",
   "execution_count": null,
   "id": "3",
   "metadata": {},
   "outputs": [],
   "source": [
    "VECTOR_SIZE = 4096"
   ]
  },
  {
   "cell_type": "markdown",
   "id": "4",
   "metadata": {},
   "source": [
    "# Passthrough PyKernel Design"
   ]
  },
  {
   "cell_type": "code",
   "execution_count": null,
   "id": "5",
   "metadata": {},
   "outputs": [],
   "source": [
    "def passthroughKernel(vector_size):\n",
    "    if vector_size % 64 != 0 or vector_size < 512:\n",
    "        raise ValueError(\n",
    "            \"Vector size must be a multiple of 64 and greater than or equal to 512\"\n",
    "        )\n",
    "    N = vector_size\n",
    "    lineWidthInBytes = N // 4  # chop input in 4 sub-tensors\n",
    "\n",
    "    @device(AIEDevice.npu1_1col)\n",
    "    def device_body():\n",
    "        # define types\n",
    "        line_ty = np.ndarray[(lineWidthInBytes,), np.dtype[np.uint8]]\n",
    "\n",
    "        # AIE Core Python Function declarations\n",
    "        @func(emit=True)\n",
    "        def passThroughLine(input: line_ty, output: line_ty, lineWidth: np.int32):\n",
    "            for i in range_(lineWidth):\n",
    "                output[i] = input[i]\n",
    "\n",
    "        # Tile declarations\n",
    "        ShimTile = tile(0, 0)\n",
    "        ComputeTile2 = tile(0, 2)\n",
    "\n",
    "        # AIE-array data movement with object fifos\n",
    "        of_in = object_fifo(\"in\", ShimTile, ComputeTile2, 2, line_ty)\n",
    "        of_out = object_fifo(\"out\", ComputeTile2, ShimTile, 2, line_ty)\n",
    "\n",
    "        # Set up compute tiles\n",
    "\n",
    "        # Compute tile 2\n",
    "        @core(ComputeTile2)\n",
    "        def core_body():\n",
    "            for _ in range_(sys.maxsize):\n",
    "                elemOut = of_out.acquire(ObjectFifoPort.Produce, 1)\n",
    "                elemIn = of_in.acquire(ObjectFifoPort.Consume, 1)\n",
    "                passThroughLine(elemIn, elemOut, lineWidthInBytes)\n",
    "                of_in.release(ObjectFifoPort.Consume, 1)\n",
    "                of_out.release(ObjectFifoPort.Produce, 1)\n",
    "\n",
    "        #    print(ctx.module.operation.verify())\n",
    "\n",
    "        vector_ty = np.ndarray[(N,), np.dtype[np.uint8]]\n",
    "\n",
    "        @runtime_sequence(vector_ty, vector_ty, vector_ty)\n",
    "        def sequence(inTensor, outTensor, notUsed):\n",
    "            npu_dma_memcpy_nd(\n",
    "                metadata=of_in,\n",
    "                bd_id=0,\n",
    "                mem=inTensor,\n",
    "                sizes=[1, 1, 1, N],\n",
    "                issue_token=True,\n",
    "            )\n",
    "            npu_dma_memcpy_nd(\n",
    "                metadata=of_out,\n",
    "                bd_id=1,\n",
    "                mem=outTensor,\n",
    "                sizes=[1, 1, 1, N],\n",
    "            )\n",
    "            dma_wait(of_in, of_out)"
   ]
  },
  {
   "cell_type": "markdown",
   "id": "6",
   "metadata": {},
   "source": [
    "# Generate MLIR, print, and save to file"
   ]
  },
  {
   "cell_type": "code",
   "execution_count": null,
   "id": "7",
   "metadata": {},
   "outputs": [],
   "source": [
    "with mlir_mod_ctx() as ctx:\n",
    "    passthroughKernel(VECTOR_SIZE)\n",
    "    # Warning: Do not change file name without changing compilation commands below\n",
    "    with open(\"notebook_aie.mlir\", \"w\") as f:\n",
    "        print(ctx.module)\n",
    "        print(ctx.module, file=f)"
   ]
  },
  {
   "cell_type": "markdown",
   "id": "8",
   "metadata": {},
   "source": [
    "# Compile the design using `aiecc`"
   ]
  },
  {
   "cell_type": "code",
   "execution_count": null,
   "id": "9",
   "metadata": {},
   "outputs": [],
   "source": [
    "!mkdir notebook_build\n",
    "!cd notebook_build && aiecc.py --aie-generate-cdo --aie-generate-npu --no-compile-host --no-xchesscc --no-xbridge --xclbin-name=notebook.xclbin --npu-insts-name=notebook_insts.txt ../notebook_aie.mlir"
   ]
  },
  {
   "cell_type": "markdown",
   "id": "10",
   "metadata": {},
   "source": [
    "# Test the Design use pyxrt"
   ]
  },
  {
   "cell_type": "code",
   "execution_count": null,
   "id": "11",
   "metadata": {},
   "outputs": [],
   "source": [
    "dtype = np.uint8\n",
    "\n",
    "app = setup_aie(\n",
    "    \"notebook_build/notebook.xclbin\",\n",
    "    \"notebook_build/notebook_insts.txt\",\n",
    "    VECTOR_SIZE,\n",
    "    dtype,\n",
    "    None,\n",
    "    None,\n",
    "    VECTOR_SIZE,\n",
    "    dtype,\n",
    ")\n",
    "input = np.arange(1, VECTOR_SIZE + 1, dtype=dtype)\n",
    "print(\"Running...\")\n",
    "aie_output = execute_on_aie(app, input)\n",
    "\n",
    "# Copy output results and verify they are correct\n",
    "errors = 0\n",
    "print(\"Verifying results ...\")\n",
    "e = np.equal(input, aie_output)\n",
    "errors = np.size(e) - np.count_nonzero(e)\n",
    "\n",
    "if not errors:\n",
    "    print(\"\\nPASSED!\\n\")\n",
    "else:\n",
    "    print(\"\\nError count: \", errors)\n",
    "    print(\"\\nFailed.\\n\")"
   ]
  }
 ],
 "metadata": {
  "kernelspec": {
   "display_name": "ironenv",
   "language": "python",
   "name": "ironenv"
  },
  "language_info": {
   "codemirror_mode": {
    "name": "ipython",
    "version": 3
   },
   "file_extension": ".py",
   "mimetype": "text/x-python",
   "name": "python",
   "nbconvert_exporter": "python",
   "pygments_lexer": "ipython3"
  }
 },
 "nbformat": 4,
 "nbformat_minor": 5
}
