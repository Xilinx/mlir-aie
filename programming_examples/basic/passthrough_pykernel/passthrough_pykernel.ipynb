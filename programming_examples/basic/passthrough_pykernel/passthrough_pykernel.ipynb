{
 "cells": [
  {
   "cell_type": "markdown",
   "id": "4b34c572-575e-4947-8a7f-bf988c59855f",
   "metadata": {},
   "source": [
    "# Imports"
   ]
  },
  {
   "cell_type": "code",
   "execution_count": null,
   "id": "4d723d16-f08a-44da-b691-2ebff4891f1c",
   "metadata": {},
   "outputs": [],
   "source": [
    "import numpy as np\n",
    "import sys\n",
    "\n",
    "from aie.dialects.aie import *\n",
    "from aie.dialects.aiex import *\n",
    "from aie.extras.context import mlir_mod_ctx\n",
    "from aie.helpers.dialects.ext.func import func\n",
    "from aie.helpers.dialects.ext.scf import _for as range_\n",
    "\n",
    "from aie.utils.xrt import setup_aie, execute as execute_on_aie\n",
    "import aie.utils.test as test_utils"
   ]
  },
  {
   "cell_type": "markdown",
   "id": "bb5abcb1-78ad-486c-9263-f335d138e41d",
   "metadata": {},
   "source": [
    "# Design Configurations"
   ]
  },
  {
   "cell_type": "code",
   "execution_count": null,
   "id": "48efd59a-1fe2-4b70-8588-77d522232fe5",
   "metadata": {},
   "outputs": [],
   "source": [
    "VECTOR_SIZE = 4096"
   ]
  },
  {
   "cell_type": "markdown",
   "id": "ff96fcfc-8c21-40ae-b1d3-ded5dffb555b",
   "metadata": {},
   "source": [
    "# Passthrough PyKernel Design"
   ]
  },
  {
   "cell_type": "code",
   "execution_count": null,
   "id": "48199a1b-743a-4f1b-84c9-391a45c37beb",
   "metadata": {},
   "outputs": [],
   "source": [
    "def passthroughKernel(vector_size):\n",
    "    if vector_size % 64 != 0 or vector_size < 512:\n",
    "        raise ValueError(\n",
    "            \"Vector size must be a multiple of 64 and greater than or equal to 512\"\n",
    "        )\n",
    "    N = vector_size\n",
    "    lineWidthInBytes = N // 4  # chop input in 4 sub-tensors\n",
    "\n",
    "    @device(AIEDevice.npu1_1col)\n",
    "    def device_body():\n",
    "        # define types\n",
    "        line_ty = np.ndarray[(lineWidthInBytes,), np.dtype[np.uint8]]\n",
    "\n",
    "        # AIE Core Python Function declarations\n",
    "        @func(emit=True)\n",
    "        def passThroughLine(input: line_ty, output: line_ty, lineWidth: np.int32):\n",
    "            for i in range_(lineWidth):\n",
    "                output[i] = input[i]\n",
    "\n",
    "        # Tile declarations\n",
    "        ShimTile = tile(0, 0)\n",
    "        ComputeTile2 = tile(0, 2)\n",
    "\n",
    "        # AIE-array data movement with object fifos\n",
    "        of_in = object_fifo(\"in\", ShimTile, ComputeTile2, 2, line_ty)\n",
    "        of_out = object_fifo(\"out\", ComputeTile2, ShimTile, 2, line_ty)\n",
    "\n",
    "        # Set up compute tiles\n",
    "\n",
    "        # Compute tile 2\n",
    "        @core(ComputeTile2)\n",
    "        def core_body():\n",
    "            for _ in range_(sys.maxsize):\n",
    "                elemOut = of_out.acquire(ObjectFifoPort.Produce, 1)\n",
    "                elemIn = of_in.acquire(ObjectFifoPort.Consume, 1)\n",
    "                passThroughLine(elemIn, elemOut, lineWidthInBytes)\n",
    "                of_in.release(ObjectFifoPort.Consume, 1)\n",
    "                of_out.release(ObjectFifoPort.Produce, 1)\n",
    "\n",
    "        #    print(ctx.module.operation.verify())\n",
    "\n",
    "        vector_ty = np.ndarray[(N,), np.dtype[np.uint8]]\n",
    "\n",
    "        @runtime_sequence(vector_ty, vector_ty, vector_ty)\n",
    "        def sequence(inTensor, outTensor, notUsed):\n",
    "            npu_dma_memcpy_nd(\n",
    "                metadata=of_in,\n",
    "                bd_id=0,\n",
    "                mem=inTensor,\n",
    "                sizes=[1, 1, 1, N],\n",
    "                issue_token=True,\n",
    "            )\n",
    "            npu_dma_memcpy_nd(\n",
    "                metadata=of_out,\n",
    "                bd_id=1,\n",
    "                mem=outTensor,\n",
    "                sizes=[1, 1, 1, N],\n",
    "            )\n",
    "            dma_wait(of_in, of_out)"
   ]
  },
  {
   "cell_type": "markdown",
   "id": "755ca7f5-b56e-429f-8a7a-ae9a2295bb41",
   "metadata": {},
   "source": [
    "# Generate MLIR, print, and save to file"
   ]
  },
  {
   "cell_type": "code",
   "execution_count": null,
   "id": "80dfe9fe-e0f3-4c76-8a0c-5805756e4568",
   "metadata": {},
   "outputs": [],
   "source": [
    "with mlir_mod_ctx() as ctx:\n",
    "    passthroughKernel(VECTOR_SIZE)\n",
    "    # Warning: Do not change file name without changing compilation commands below\n",
    "    with open(\"notebook_aie.mlir\", \"w\") as f:\n",
    "        print(ctx.module)\n",
    "        print(ctx.module, file=f)"
   ]
  },
  {
   "cell_type": "markdown",
   "id": "40fcae33-86be-4681-9898-fa6f5318055d",
   "metadata": {},
   "source": [
    "# Compile the design using `aiecc`"
   ]
  },
  {
   "cell_type": "code",
   "execution_count": null,
   "id": "d158b194-57cb-42ea-b47c-fdff57c00a8b",
   "metadata": {},
   "outputs": [],
   "source": [
    "!mkdir notebook_build\n",
    "!cd notebook_build && aiecc.py --aie-generate-cdo --aie-generate-npu --no-compile-host --no-xchesscc --no-xbridge --xclbin-name=notebook.xclbin --npu-insts-name=notebook_insts.txt ../notebook_aie.mlir"
   ]
  },
  {
   "cell_type": "markdown",
   "id": "b1af4208-e259-498b-9d00-afd6f167797f",
   "metadata": {},
   "source": [
    "# Test the Design use pyxrt"
   ]
  },
  {
   "cell_type": "code",
   "execution_count": null,
   "id": "6f22d3ad-6d9f-4b7f-82a3-1ce37b8623b3",
   "metadata": {},
   "outputs": [],
   "source": [
    "dtype = np.uint8\n",
    "\n",
    "app = setup_aie(\n",
    "    \"notebook_build/notebook.xclbin\",\n",
    "    \"notebook_build/notebook_insts.txt\",\n",
    "    VECTOR_SIZE,\n",
    "    dtype,\n",
    "    None,\n",
    "    None,\n",
    "    VECTOR_SIZE,\n",
    "    dtype,\n",
    ")\n",
    "input = np.arange(1, VECTOR_SIZE + 1, dtype=dtype)\n",
    "print(\"Running...\")\n",
    "aie_output = execute_on_aie(app, input)\n",
    "\n",
    "# Copy output results and verify they are correct\n",
    "errors = 0\n",
    "print(\"Verifying results ...\")\n",
    "e = np.equal(input, aie_output)\n",
    "errors = np.size(e) - np.count_nonzero(e)\n",
    "\n",
    "if not errors:\n",
    "    print(\"\\nPASSED!\\n\")\n",
    "else:\n",
    "    print(\"\\nError count: \", errors)\n",
    "    print(\"\\nFailed.\\n\")"
   ]
  },
  {
   "cell_type": "code",
   "execution_count": null,
   "id": "f5b6a02a-5e71-4fa0-98cd-6b9f082450e0",
   "metadata": {},
   "outputs": [],
   "source": []
  }
 ],
 "metadata": {
  "kernelspec": {
   "display_name": "sandbox",
   "language": "python",
   "name": "sandbox"
  },
  "language_info": {
   "codemirror_mode": {
    "name": "ipython",
    "version": 3
   },
   "file_extension": ".py",
   "mimetype": "text/x-python",
   "name": "python",
   "nbconvert_exporter": "python",
   "pygments_lexer": "ipython3",
   "version": "3.10.12"
  }
 },
 "nbformat": 4,
 "nbformat_minor": 5
}
