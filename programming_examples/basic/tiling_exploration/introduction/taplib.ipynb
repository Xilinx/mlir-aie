{
 "cells": [
  {
   "cell_type": "markdown",
   "id": "0",
   "metadata": {},
   "source": [
    "# Tensor Access Pattern Library (`taplib`): An IRON Tool for Data Movements and Tiling"
   ]
  },
  {
   "cell_type": "code",
   "execution_count": null,
   "id": "1",
   "metadata": {},
   "outputs": [],
   "source": [
    "# Imports\n",
    "from IPython.display import HTML\n",
    "import pydoc"
   ]
  },
  {
   "cell_type": "markdown",
   "id": "2",
   "metadata": {},
   "source": [
    "## Introduction\n",
    "\n",
    "Components of *AI Engines* (AIEs) have *Data Movement Accelerators* (DMAs) which are capable of expressing complex on-the-fly data transformations.\n",
    "\n",
    "The primary purpose of `taplib` is to provide building blocks for expressing *Tensor Access Patterns* (*taps*) used in DMA transformations. To provide a useful utility (and show the usefulness of `taplib`), `taplib` contains a `TensorTiler2D` class which acts as a factory for generating taps for common tiling patterns.\n",
    "\n",
    "*tiling* is a common type of transformation whereby a larger *image* or *tensor* of data is broken up into smaller *tiles* or groups of tiles. This can be done to encourage smooth streaming behavior, to better conserver resources at specific areas of the memory hierarchy, or because applications or vectorized instructions require data to be structured in a specific way. `TensorTiler2D` provides several methods to generate taps for common tiling patterns."
   ]
  },
  {
   "cell_type": "markdown",
   "id": "3",
   "metadata": {},
   "source": [
    "## Data Transformations in MLIR\n",
    "\n",
    "Internally, the `mlir-aie` dialect represents tensor access patterns as a combination of an *offset* into a region of data, a set of *strides*, and a set of *sizes*. Most of the DMAs take either 4 dimensions of offsets/sizes/strides or 3 dimensions + a repeat count with a repeat step (which is, for the most part, functionally equivalent to 4 dimensions of sizes/strides).\n",
    "\n",
    "It takes practice to successfully think about data movements in offsets/sizes/strides; that is why `taplib` provides some tools to help reason about tensor access patterns."
   ]
  },
  {
   "cell_type": "markdown",
   "id": "4",
   "metadata": {},
   "source": [
    "## `taplib`"
   ]
  },
  {
   "cell_type": "markdown",
   "id": "5",
   "metadata": {},
   "source": [
    "There are three main classes which are used to help with tiling:"
   ]
  },
  {
   "cell_type": "code",
   "execution_count": null,
   "id": "6",
   "metadata": {},
   "outputs": [],
   "source": [
    "from aie.helpers.taplib import TensorAccessPattern, TensorAccessSequence, TensorTiler2D"
   ]
  },
  {
   "cell_type": "markdown",
   "id": "7",
   "metadata": {},
   "source": [
    "### `TensorAccessPattern` (`tap`)\n",
    "\n",
    "A `TensorAccessPattern` represents a single set of offset/sizes/strides on a tensor of a particular shape. Let's look at some examples of what you can do with a `TensorAccessPattern`."
   ]
  },
  {
   "cell_type": "code",
   "execution_count": null,
   "id": "8",
   "metadata": {},
   "outputs": [],
   "source": [
    "# Create a TensorAccessPattern\n",
    "tensor_dims = (2, 3)\n",
    "offset = 4\n",
    "sizes = [1, 2]\n",
    "strides = [0, 1]\n",
    "tap = TensorAccessPattern((2, 3), offset=offset, sizes=[1, 2], strides=[0, 1])"
   ]
  },
  {
   "cell_type": "markdown",
   "id": "9",
   "metadata": {},
   "source": [
    "The `TensorAccessPattern` can be visualized in two ways:\n",
    "- as a heatmap showing the order that elements are accessed\n",
    "- as a heatmap showing the number of times each element in the tensor is accessed by the `TensorAccessPattern`"
   ]
  },
  {
   "cell_type": "code",
   "execution_count": null,
   "id": "10",
   "metadata": {},
   "outputs": [],
   "source": [
    "# We can visualize the TensorAccessPattern\n",
    "tap.visualize(show_arrows=False)"
   ]
  },
  {
   "cell_type": "code",
   "execution_count": null,
   "id": "11",
   "metadata": {},
   "outputs": [],
   "source": [
    "# We can add some arrows to the visualization, and optionally plot the access count.\n",
    "tap.visualize(show_arrows=True, plot_access_count=True)"
   ]
  },
  {
   "cell_type": "markdown",
   "id": "12",
   "metadata": {},
   "source": [
    "These graphs are based off of *access tensors* which contain either order or count information, respectively."
   ]
  },
  {
   "cell_type": "code",
   "execution_count": null,
   "id": "13",
   "metadata": {},
   "outputs": [],
   "source": [
    "access_order, access_count = tap.accesses()\n",
    "access_order, access_count"
   ]
  },
  {
   "cell_type": "markdown",
   "id": "14",
   "metadata": {},
   "source": [
    "There are also methods to get just one of the access tensors, if desired. For larger tensors, it's useful to only calculate what you need to reduce program memory/computation."
   ]
  },
  {
   "cell_type": "code",
   "execution_count": null,
   "id": "15",
   "metadata": {},
   "outputs": [],
   "source": [
    "access_order = tap.access_order()\n",
    "access_count = tap.access_count()"
   ]
  },
  {
   "cell_type": "markdown",
   "id": "16",
   "metadata": {},
   "source": [
    "### TensorTileSequence\n",
    "\n",
    "A TensorTileSequence is a wrapper around a list of tiles. It can be created directly from a list of tiles or it can generate a list of tiles based on functions which produce sizes, strides, or offsets."
   ]
  },
  {
   "cell_type": "code",
   "execution_count": null,
   "id": "17",
   "metadata": {},
   "outputs": [],
   "source": [
    "t0 = TensorAccessPattern((8, 8), offset=0, sizes=[1, 1, 4, 4], strides=[0, 0, 8, 1])\n",
    "t1 = TensorAccessPattern((8, 8), offset=4, sizes=[1, 1, 4, 4], strides=[0, 0, 8, 1])\n",
    "t2 = TensorAccessPattern((8, 8), offset=32, sizes=[1, 1, 4, 4], strides=[0, 0, 8, 1])\n",
    "\n",
    "# Create a TensorTileSequence from a list of tiles\n",
    "taps = TensorAccessSequence.from_taps([t0, t1, t2])"
   ]
  },
  {
   "cell_type": "code",
   "execution_count": null,
   "id": "18",
   "metadata": {},
   "outputs": [],
   "source": [
    "# You can treat the TensorAccessSequence like a normal python list for common operations\n",
    "print(taps[0])\n",
    "\n",
    "print(len(taps))\n",
    "t3 = TensorAccessPattern((8, 8), offset=36, sizes=[1, 1, 4, 4], strides=[0, 0, 8, 1])\n",
    "taps.append(t3)\n",
    "print(len(taps))\n",
    "print(taps[3])\n",
    "\n",
    "for t in taps:\n",
    "    t.visualize()"
   ]
  },
  {
   "cell_type": "code",
   "execution_count": null,
   "id": "19",
   "metadata": {},
   "outputs": [],
   "source": [
    "# But you can also do some neat things to visualize the tiles in a sequence in one graph\n",
    "taps.visualize(plot_access_count=True)"
   ]
  },
  {
   "cell_type": "code",
   "execution_count": null,
   "id": "20",
   "metadata": {},
   "outputs": [],
   "source": [
    "# Or you can visualize the tiles in a sequence in an animation, where each frame of the animation represents a tile in the sequence.\n",
    "anim = taps.animate()\n",
    "HTML(anim.to_jshtml())"
   ]
  },
  {
   "cell_type": "markdown",
   "id": "21",
   "metadata": {},
   "source": [
    "### TensorTiler2D\n",
    "\n",
    "While the `TensorAccessSequence` is useful for working with collections of taps, it can still be a bit arduous to create the `TensorAccessPatterns` in the first place.\n",
    "`TensorTiler2D` is designed to automate the creation of `TensorAccessSequences` for common tiling patterns."
   ]
  },
  {
   "cell_type": "code",
   "execution_count": null,
   "id": "22",
   "metadata": {},
   "outputs": [],
   "source": [
    "# This is equivalent to what we created before, but much easier!\n",
    "tensor_dims = (8, 8)\n",
    "tile_dims = (4, 4)\n",
    "simple_tiler = TensorTiler2D.simple_tiler(tensor_dims, tile_dims)\n",
    "print(len(simple_tiler))\n",
    "print(simple_tiler[0])"
   ]
  },
  {
   "cell_type": "code",
   "execution_count": null,
   "id": "23",
   "metadata": {},
   "outputs": [],
   "source": [
    "anim = simple_tiler.animate()\n",
    "HTML(anim.to_jshtml())"
   ]
  },
  {
   "cell_type": "code",
   "execution_count": null,
   "id": "24",
   "metadata": {},
   "outputs": [],
   "source": [
    "# There are some additional options available for the simple_tiler, see the arguments below!\n",
    "# we use the pydoc function instead of help() because it allows the notebook to be tested by CI in a non-interactive way.\n",
    "print(pydoc.render_doc(TensorTiler2D.simple_tiler, \"Help on %s\"))"
   ]
  },
  {
   "cell_type": "code",
   "execution_count": null,
   "id": "25",
   "metadata": {},
   "outputs": [],
   "source": [
    "# There are also more complex tiling patterns, such as groups of tiles\n",
    "tensor_dims = (16, 16)\n",
    "tile_dims = (4, 4)\n",
    "tile_group_dims = (2, 2)\n",
    "group_tiler = TensorTiler2D.group_tiler(tensor_dims, tile_dims, tile_group_dims)\n",
    "print(len(group_tiler))\n",
    "print(group_tiler[0])"
   ]
  },
  {
   "cell_type": "code",
   "execution_count": null,
   "id": "26",
   "metadata": {},
   "outputs": [],
   "source": [
    "anim = group_tiler.animate()\n",
    "HTML(anim.to_jshtml())"
   ]
  },
  {
   "cell_type": "code",
   "execution_count": null,
   "id": "27",
   "metadata": {},
   "outputs": [],
   "source": [
    "# There are some additional options available for the group_tiler, see the arguments below!\n",
    "# we use the pydoc function instead of help() because it allows the notebook to be tested by CI in a non-interactive way.\n",
    "print(pydoc.render_doc(TensorTiler2D.group_tiler, \"Help on %s\"))"
   ]
  },
  {
   "cell_type": "code",
   "execution_count": null,
   "id": "28",
   "metadata": {},
   "outputs": [],
   "source": [
    "# Most featureful is the step_tiler, which can have non-contiguous groups of tiles\n",
    "tensor_dims = (32, 32)\n",
    "tile_dims = (4, 4)\n",
    "tile_group_dims = (2, 2)\n",
    "tile_step_dims = (2, 2)\n",
    "step_tiler = TensorTiler2D.step_tiler(\n",
    "    tensor_dims, tile_dims, tile_group_dims, tile_step_dims\n",
    ")\n",
    "print(len(step_tiler))\n",
    "print(step_tiler[0])"
   ]
  },
  {
   "cell_type": "code",
   "execution_count": null,
   "id": "29",
   "metadata": {},
   "outputs": [],
   "source": [
    "anim = step_tiler.animate()\n",
    "HTML(anim.to_jshtml())"
   ]
  },
  {
   "cell_type": "code",
   "execution_count": null,
   "id": "30",
   "metadata": {},
   "outputs": [],
   "source": [
    "# There are some additional options available for the step_tiler, see the arguments below!\n",
    "# we use the pydoc function instead of help() because it allows the notebook to be tested by CI in a non-interactive way.\n",
    "print(pydoc.render_doc(TensorTiler2D.step_tiler, \"Help on %s\"))"
   ]
  },
  {
   "cell_type": "markdown",
   "id": "31",
   "metadata": {},
   "source": [
    "That concludes the introduction to `taplib`!"
   ]
  },
  {
   "cell_type": "code",
   "execution_count": null,
   "id": "32",
   "metadata": {},
   "outputs": [],
   "source": [
    "print(\"Complete!\")"
   ]
  }
 ],
 "metadata": {
  "kernelspec": {
   "display_name": "ironenv",
   "language": "python",
   "name": "ironenv"
  },
  "language_info": {
   "codemirror_mode": {
    "name": "ipython",
    "version": 3
   },
   "file_extension": ".py",
   "mimetype": "text/x-python",
   "name": "python",
   "nbconvert_exporter": "python",
   "pygments_lexer": "ipython3",
   "version": "3.10.12"
  }
 },
 "nbformat": 4,
 "nbformat_minor": 5
}
