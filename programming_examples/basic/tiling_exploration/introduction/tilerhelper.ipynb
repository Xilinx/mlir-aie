{
 "cells": [
  {
   "cell_type": "markdown",
   "id": "c02667af-b722-4999-ae4c-cf5fddb976cc",
   "metadata": {},
   "source": [
    "# IRON Tools for Data Movements and Tiling"
   ]
  },
  {
   "cell_type": "code",
   "execution_count": null,
   "id": "7ed141a9-603f-4e5d-ae64-b6e846bace8c",
   "metadata": {},
   "outputs": [],
   "source": [
    "# Imports\n",
    "from IPython.display import HTML\n",
    "import pydoc"
   ]
  },
  {
   "cell_type": "markdown",
   "id": "bfce8ba7-f8ec-4049-b5c1-b2347c46fdf3",
   "metadata": {},
   "source": [
    "## Introduction\n",
    "\n",
    "Components of *AI Engines* (AIEs) have *Data Movement Accelerators* (DMAs) which are capable of expressing pretty complex on-the-fly data movement transformations.\n",
    "\n",
    "A common type of transformation is known as *tiling*, where a larger *image* or *tensor* of data is broken up into smaller *tiles*. This can be done to encourage smooth streaming behavior, to better conserver resources at specific areas of the memory hierarchy, or because applications or vectorized instructions require data to be structured in a specific way.\n",
    "\n",
    "IRON provides some tools to help with tiling data."
   ]
  },
  {
   "cell_type": "markdown",
   "id": "001cba0b-b45c-41cf-9b05-dd05a8c5f709",
   "metadata": {},
   "source": [
    "## Data Transformations in MLIR\n",
    "\n",
    "Internally, the mlir-aie dialect represents data movements as a combination of an *offset* into a region of data, a set of *strides*, and a set of *sizes*. Most of the DMA components take either 4 dimensions of offsets/sizes/strides or 3 dimensions + a repeat count with a repeat step (which is, for the most part, functionally equivalent to 4 dimensions of sizes/strides).\n",
    "\n",
    "It takes practice to successfully think about data movements in offsets/sizes/strides; that is why IRON provides some tools to help reason about data transformations."
   ]
  },
  {
   "cell_type": "markdown",
   "id": "75559ca0-f960-4cf6-b39b-df1e653e79cc",
   "metadata": {},
   "source": [
    "## IRON Tools for Tiling"
   ]
  },
  {
   "cell_type": "markdown",
   "id": "a075512c-87da-48d0-9c5c-a57c0e488153",
   "metadata": {},
   "source": [
    "There are three main classes which are used to help with tiling:"
   ]
  },
  {
   "cell_type": "code",
   "execution_count": null,
   "id": "f6de8e6c-e61d-448c-9c0f-4cb8a10a2da5",
   "metadata": {},
   "outputs": [],
   "source": [
    "from aie.helpers.tensortiler import TensorTile, TensorTileSequence, TensorTiler2D"
   ]
  },
  {
   "cell_type": "markdown",
   "id": "3e02dc3c-c0fb-44f3-b074-4a1bd163459b",
   "metadata": {},
   "source": [
    "### TensorTile\n",
    "\n",
    "A TensorTile is a way to representing a single set of offset/sizes/strides on a tensor of a particular shape. Let's look at some examples of what you can do with a TensorTile."
   ]
  },
  {
   "cell_type": "code",
   "execution_count": null,
   "id": "c42ebdd3-b497-455e-aa2e-88e83c9146f5",
   "metadata": {},
   "outputs": [],
   "source": [
    "# Create a TensorTile\n",
    "tensor_dims = (2, 3)\n",
    "offset = 4\n",
    "sizes = [1, 2]\n",
    "strides = [0, 1]\n",
    "tile = TensorTile((2, 3), offset=offset, sizes=[1, 2], strides=[0, 1])"
   ]
  },
  {
   "cell_type": "markdown",
   "id": "6ac9d05a-2371-448b-835c-ca0790a7b0db",
   "metadata": {},
   "source": [
    "The TensorTile can be visualized in two ways:\n",
    "- as a heatmap showing the order that elements are accessed\n",
    "- as a heatmap showing the number of times each element in the tensor is accessed by the TensorTile"
   ]
  },
  {
   "cell_type": "code",
   "execution_count": null,
   "id": "581d0164-b1de-474d-94cd-d09e566d7b84",
   "metadata": {},
   "outputs": [],
   "source": [
    "# We can visualize the TensorTile\n",
    "tile.visualize(show_arrows=False)"
   ]
  },
  {
   "cell_type": "code",
   "execution_count": null,
   "id": "25737c2e-24c7-410a-9217-5b5bda42a379",
   "metadata": {},
   "outputs": [],
   "source": [
    "# We can add some arrows to the visualization, and optionally plot the access count.\n",
    "tile.visualize(show_arrows=True, plot_access_count=True)"
   ]
  },
  {
   "cell_type": "markdown",
   "id": "1c333623-bf84-47f9-bedb-ea0d16cf343e",
   "metadata": {},
   "source": [
    "These graphs are based off of *access tensors* which contain either order or count information, respectively."
   ]
  },
  {
   "cell_type": "code",
   "execution_count": null,
   "id": "60f53a01-3581-43b1-aea9-f4bb605dbf13",
   "metadata": {},
   "outputs": [],
   "source": [
    "access_order, access_count = tile.access_tensors()\n",
    "access_order, access_count"
   ]
  },
  {
   "cell_type": "markdown",
   "id": "d570b231-2e74-4002-a59a-be50aa75e1b4",
   "metadata": {},
   "source": [
    "### TensorTileSequence\n",
    "\n",
    "A TensorTileSequence is a wrapper around a list of tiles. It can be created directly from a list of tiles or it can generate a list of tiles based on functions which produce sizes, strides, or offsets."
   ]
  },
  {
   "cell_type": "code",
   "execution_count": null,
   "id": "3046706a-befd-413b-bcdc-c0f0283e110a",
   "metadata": {},
   "outputs": [],
   "source": [
    "t0 = TensorTile((8, 8), offset=0, sizes=[1, 1, 4, 4], strides=[0, 0, 8, 1])\n",
    "t1 = TensorTile((8, 8), offset=4, sizes=[1, 1, 4, 4], strides=[0, 0, 8, 1])\n",
    "t2 = TensorTile((8, 8), offset=32, sizes=[1, 1, 4, 4], strides=[0, 0, 8, 1])\n",
    "\n",
    "# Create a TensorTileSequence from a list of tiles\n",
    "tiles = TensorTileSequence.from_tiles([t0, t1, t2])"
   ]
  },
  {
   "cell_type": "code",
   "execution_count": null,
   "id": "7258c501-ab4a-4d13-b77d-0d4a29249f2b",
   "metadata": {},
   "outputs": [],
   "source": [
    "# You can treat the TensorTileSequence like a normal python list, for the most part\n",
    "print(tiles[0])\n",
    "\n",
    "print(len(tiles))\n",
    "t3 = TensorTile((8, 8), offset=36, sizes=[1, 1, 4, 4], strides=[0, 0, 8, 1])\n",
    "tiles.append(t3)\n",
    "print(len(tiles))\n",
    "print(tiles[3])\n",
    "\n",
    "for t in tiles:\n",
    "    t.visualize()"
   ]
  },
  {
   "cell_type": "code",
   "execution_count": null,
   "id": "031ba826-209a-4323-ac07-670573cc1ce2",
   "metadata": {},
   "outputs": [],
   "source": [
    "# But you can also do some neat things to visualize the tiles in a sequence in one graph\n",
    "tiles.visualize(plot_access_count=True)"
   ]
  },
  {
   "cell_type": "code",
   "execution_count": null,
   "id": "b8424971-3dd9-4efc-88ac-4d0f08f12d63",
   "metadata": {},
   "outputs": [],
   "source": [
    "# Or you can visualize the tiles in a sequence in an animation, where each frame of the animation represents a tile in the sequence.\n",
    "anim = tiles.animate()\n",
    "HTML(anim.to_jshtml())"
   ]
  },
  {
   "cell_type": "markdown",
   "id": "ec576e62-b86a-488d-ac61-b66d6c45e334",
   "metadata": {},
   "source": [
    "### TensorTiler2D\n",
    "\n",
    "While the TensorTileSequence is useful for working with collections of tiles, it can still be a bit arduous to create the TensorTiles in the first place.\n",
    "The TensorTiler2D class is meant to help automate the creation of TensorTileSequences process for common tiling patterns."
   ]
  },
  {
   "cell_type": "code",
   "execution_count": null,
   "id": "8b5d8366-e642-4a8e-9565-d0081e5c5fdb",
   "metadata": {},
   "outputs": [],
   "source": [
    "# This is equivalent to what we created before, but much easier!\n",
    "tensor_dims = (8, 8)\n",
    "tile_dims = (4, 4)\n",
    "simple_tiler = TensorTiler2D.simple_tiler(tensor_dims, tile_dims)\n",
    "print(len(simple_tiler))\n",
    "print(simple_tiler[0])"
   ]
  },
  {
   "cell_type": "code",
   "execution_count": null,
   "id": "4d63e1c3-5442-4905-90ad-2360c6cf16f1",
   "metadata": {},
   "outputs": [],
   "source": [
    "anim = simple_tiler.animate()\n",
    "HTML(anim.to_jshtml())"
   ]
  },
  {
   "cell_type": "code",
   "execution_count": null,
   "id": "e2ff9ddd-7178-4e05-9b1b-69001f4c4931",
   "metadata": {},
   "outputs": [],
   "source": [
    "# There are some additional options available for the simple_tiler, see the arguments below!\n",
    "# we use the pydoc function instead of help() because it allows the notebook to be tested by CI in a non-interactive way.\n",
    "print(pydoc.render_doc(TensorTiler2D.simple_tiler, \"Help on %s\"))"
   ]
  },
  {
   "cell_type": "code",
   "execution_count": null,
   "id": "ecc4f7f5-cc8d-45ae-b055-4eaddd8f6748",
   "metadata": {},
   "outputs": [],
   "source": [
    "# There are also more complex tiling patterns, such as groups of tiles\n",
    "tensor_dims = (16, 16)\n",
    "tile_dims = (4, 4)\n",
    "tile_group_dims = (2, 2)\n",
    "group_tiler = TensorTiler2D.group_tiler(tensor_dims, tile_dims, tile_group_dims)\n",
    "print(len(group_tiler))\n",
    "print(group_tiler[0])"
   ]
  },
  {
   "cell_type": "code",
   "execution_count": null,
   "id": "87ed794b-7ff2-4720-a1a6-a05fd078c345",
   "metadata": {},
   "outputs": [],
   "source": [
    "anim = group_tiler.animate()\n",
    "HTML(anim.to_jshtml())"
   ]
  },
  {
   "cell_type": "code",
   "execution_count": null,
   "id": "65401f4e-93ae-4433-ae19-ffafb5a67cf2",
   "metadata": {},
   "outputs": [],
   "source": [
    "# There are some additional options available for the group_tiler, see the arguments below!\n",
    "# we use the pydoc function instead of help() because it allows the notebook to be tested by CI in a non-interactive way.\n",
    "print(pydoc.render_doc(TensorTiler2D.group_tiler, \"Help on %s\"))"
   ]
  },
  {
   "cell_type": "code",
   "execution_count": null,
   "id": "7a9f8955-ebca-4e3b-b51e-129d4b1bd5cc",
   "metadata": {},
   "outputs": [],
   "source": [
    "# Most featureful is the step_tiler, which can have non-contiguous groups of tiles\n",
    "tensor_dims = (32, 32)\n",
    "tile_dims = (4, 4)\n",
    "tile_group_dims = (2, 2)\n",
    "tile_step_dims = (2, 2)\n",
    "step_tiler = TensorTiler2D.step_tiler(\n",
    "    tensor_dims, tile_dims, tile_group_dims, tile_step_dims\n",
    ")\n",
    "print(len(step_tiler))\n",
    "print(step_tiler[0])"
   ]
  },
  {
   "cell_type": "code",
   "execution_count": null,
   "id": "d706ef66-ea1c-4e53-8683-91397ea3d5ba",
   "metadata": {},
   "outputs": [],
   "source": [
    "anim = step_tiler.animate()\n",
    "HTML(anim.to_jshtml())"
   ]
  },
  {
   "cell_type": "code",
   "execution_count": null,
   "id": "18cbc315-bc9e-4bae-ac18-2be8d5788de9",
   "metadata": {},
   "outputs": [],
   "source": [
    "# There are some additional options available for the step_tiler, see the arguments below!\n",
    "# we use the pydoc function instead of help() because it allows the notebook to be tested by CI in a non-interactive way.\n",
    "print(pydoc.render_doc(TensorTiler2D.step_tiler, \"Help on %s\"))"
   ]
  },
  {
   "cell_type": "markdown",
   "id": "cab5e708-7b10-49e7-abc1-17da52bc3526",
   "metadata": {},
   "source": [
    "That concludes the introduction to IRON tiling tools!"
   ]
  },
  {
   "cell_type": "code",
   "execution_count": null,
   "id": "d91e0005-f76d-4857-9e4b-af6a7b8cbf63",
   "metadata": {},
   "outputs": [],
   "source": [
    "print(\"Complete!\")"
   ]
  },
  {
   "cell_type": "code",
   "execution_count": null,
   "id": "1bd78543-02e0-4cd3-9811-b60c44c6dde9",
   "metadata": {},
   "outputs": [],
   "source": []
  }
 ],
 "metadata": {
  "kernelspec": {
   "display_name": "Python 3 (ipykernel)",
   "language": "python",
   "name": "python3"
  },
  "language_info": {
   "codemirror_mode": {
    "name": "ipython",
    "version": 3
   },
   "file_extension": ".py",
   "mimetype": "text/x-python",
   "name": "python",
   "nbconvert_exporter": "python",
   "pygments_lexer": "ipython3",
   "version": "3.10.12"
  }
 },
 "nbformat": 4,
 "nbformat_minor": 5
}
