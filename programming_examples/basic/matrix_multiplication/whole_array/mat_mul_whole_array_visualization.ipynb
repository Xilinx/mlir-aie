{
 "cells": [
  {
   "cell_type": "markdown",
   "id": "0",
   "metadata": {},
   "source": [
    "# Matrix Multiplication Runtime Data Movement Visualization"
   ]
  },
  {
   "cell_type": "markdown",
   "id": "1",
   "metadata": {},
   "source": [
    "## Overview"
   ]
  },
  {
   "cell_type": "markdown",
   "id": "2",
   "metadata": {},
   "source": [
    "The purpose of this notebook is to visually describe how the A, B, and C matrices are tiled and transformed in the matrix multiply whole array design. To do this, we use some of the taplib (Tensor Access Pattern Library) tools included in IRON."
   ]
  },
  {
   "cell_type": "markdown",
   "id": "3",
   "metadata": {},
   "source": [
    "## Generate the data used for visualization"
   ]
  },
  {
   "cell_type": "code",
   "execution_count": null,
   "id": "4",
   "metadata": {},
   "outputs": [],
   "source": [
    "# Import the main method from mat mul\n",
    "from whole_array import my_matmul\n",
    "\n",
    "# Note: can also use:\n",
    "# from whole_array_alt import my_matmul\n",
    "from aie.extras.context import mlir_mod_ctx\n",
    "from IPython.display import HTML"
   ]
  },
  {
   "cell_type": "code",
   "execution_count": null,
   "id": "5",
   "metadata": {},
   "outputs": [],
   "source": [
    "# Call the mat mul function with generate_taps=True\n",
    "M = 640\n",
    "K = 896\n",
    "N = 768\n",
    "m = 16\n",
    "k = 32\n",
    "n = 48\n",
    "n_aie_cols = 4\n",
    "n_aie_rows = 4\n",
    "b_col_maj = False\n",
    "\n",
    "with mlir_mod_ctx() as ctx:\n",
    "    A_taps, B_taps, C_taps = my_matmul(\n",
    "        M=M,\n",
    "        K=K,\n",
    "        N=N,\n",
    "        m=m,\n",
    "        k=k,\n",
    "        n=n,\n",
    "        n_aie_cols=n_aie_cols,\n",
    "        dtype_in_str=\"i16\",\n",
    "        dtype_out_str=\"i32\",\n",
    "        b_col_maj=b_col_maj,\n",
    "        trace_size=0,\n",
    "        generate_taps=True,\n",
    "    )"
   ]
  },
  {
   "cell_type": "markdown",
   "id": "6",
   "metadata": {},
   "source": [
    "# Generate (static) Data Movement Pattern for A, B, and C\n",
    "\n",
    "Note: It can take some time (order of seconds) to generate each graph\n",
    "\n",
    "## How to Read These Graphs\n",
    "\n",
    "The ***Access Order*** graph is a heatmap showing the order that data is conceptually pushed or pull off the wires in DMA operations. The graph goes from cold (black) to hot (white).\n",
    "\n",
    "The ***Access Count*** graph shows how many times each element is accesses in the sequence of data movement tiles. This is also a heatmap, but typically, each element is access the same amount of times (the max value is displayed in the graph title) so these graphs tend to be a single color. The count can be raised from a single data movement that causes a location to be accessed more than once, or it can be from multiple data movements that access the same element."
   ]
  },
  {
   "cell_type": "markdown",
   "id": "7",
   "metadata": {},
   "source": [
    "## 1. Data Movement Pattern for A"
   ]
  },
  {
   "cell_type": "code",
   "execution_count": null,
   "id": "8",
   "metadata": {},
   "outputs": [],
   "source": [
    "A_taps.visualize(plot_access_count=True)"
   ]
  },
  {
   "cell_type": "markdown",
   "id": "9",
   "metadata": {},
   "source": [
    "## 2. Data Movement Pattern for B"
   ]
  },
  {
   "cell_type": "code",
   "execution_count": null,
   "id": "10",
   "metadata": {},
   "outputs": [],
   "source": [
    "B_taps.visualize(plot_access_count=True)"
   ]
  },
  {
   "cell_type": "markdown",
   "id": "11",
   "metadata": {},
   "source": [
    "## 3. Data Movement Pattern for C"
   ]
  },
  {
   "cell_type": "code",
   "execution_count": null,
   "id": "12",
   "metadata": {},
   "outputs": [],
   "source": [
    "C_taps.visualize(plot_access_count=True)"
   ]
  },
  {
   "cell_type": "markdown",
   "id": "13",
   "metadata": {},
   "source": [
    "# Generate (animated) Data Movement Patterns for A, B, and C\n",
    "\n",
    "Note: It can take some time (order of minutes) to generate each animation."
   ]
  },
  {
   "cell_type": "markdown",
   "id": "14",
   "metadata": {},
   "source": [
    "## 1. Data Movement Pattern for A"
   ]
  },
  {
   "cell_type": "code",
   "execution_count": null,
   "id": "15",
   "metadata": {},
   "outputs": [],
   "source": [
    "a_anim = A_taps.animate()\n",
    "HTML(a_anim.to_jshtml())"
   ]
  },
  {
   "cell_type": "markdown",
   "id": "16",
   "metadata": {},
   "source": [
    "## 2. Data Movement Pattern for B"
   ]
  },
  {
   "cell_type": "code",
   "execution_count": null,
   "id": "17",
   "metadata": {},
   "outputs": [],
   "source": [
    "b_anim = B_taps.animate()\n",
    "HTML(b_anim.to_jshtml())"
   ]
  },
  {
   "cell_type": "markdown",
   "id": "18",
   "metadata": {},
   "source": [
    "## 3. Data Movement Pattern for C"
   ]
  },
  {
   "cell_type": "code",
   "execution_count": null,
   "id": "19",
   "metadata": {},
   "outputs": [],
   "source": [
    "c_anim = C_taps.animate()\n",
    "HTML(c_anim.to_jshtml())"
   ]
  }
 ],
 "metadata": {
  "kernelspec": {
   "display_name": "ironenv",
   "language": "python",
   "name": "ironenv"
  },
  "language_info": {
   "codemirror_mode": {
    "name": "ipython",
    "version": 3
   },
   "file_extension": ".py",
   "mimetype": "text/x-python",
   "name": "python",
   "nbconvert_exporter": "python",
   "pygments_lexer": "ipython3",
   "version": "3.10.12"
  }
 },
 "nbformat": 4,
 "nbformat_minor": 5
}
