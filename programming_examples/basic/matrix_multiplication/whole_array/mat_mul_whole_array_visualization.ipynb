{
 "cells": [
  {
   "cell_type": "markdown",
   "id": "a1165080-5b4f-4605-96e6-f6b4878c2147",
   "metadata": {},
   "source": [
    "# Matrix Multiplication Runtime Data Movement Visualization"
   ]
  },
  {
   "cell_type": "markdown",
   "id": "cb5e398a-7c32-462c-b27a-5845fe431c13",
   "metadata": {},
   "source": [
    "## Overview"
   ]
  },
  {
   "cell_type": "markdown",
   "id": "c1377f08-f693-4927-b76f-a9556f41f2e5",
   "metadata": {},
   "source": [
    "The purpose of this notebook is to visually describe how the A, B, and C matrices are tiled and transformed in the matrix multiply whole array design. To do this, we use some of the tiling helper tools included in IRON."
   ]
  },
  {
   "cell_type": "markdown",
   "id": "ed289985-c868-4713-ae67-d8f8475a61c7",
   "metadata": {},
   "source": [
    "## Generate the data used for visualization"
   ]
  },
  {
   "cell_type": "code",
   "execution_count": null,
   "id": "bc9b43e9-3e82-44dc-8c42-256b8c0e9c45",
   "metadata": {},
   "outputs": [],
   "source": [
    "# Import the main method from mat mul\n",
    "from aie2 import my_matmul\n",
    "from aie.extras.context import mlir_mod_ctx\n",
    "from IPython.display import HTML"
   ]
  },
  {
   "cell_type": "code",
   "execution_count": null,
   "id": "f556270d-4411-481a-aad4-c5d01ecaf2d5",
   "metadata": {},
   "outputs": [],
   "source": [
    "# Call the mat mul function with generate_tiles=True\n",
    "M=640\n",
    "K=896\n",
    "N=768\n",
    "m=16\n",
    "k=32\n",
    "n=48\n",
    "n_aie_cols = 4\n",
    "n_aie_rows = 4\n",
    "b_col_maj = False\n",
    "\n",
    "with mlir_mod_ctx() as ctx:\n",
    "    A_tiles, B_tiles, C_tiles = my_matmul(\n",
    "        M=M,\n",
    "        K=K,\n",
    "        N=N,\n",
    "        m=m,\n",
    "        k=k,\n",
    "        n=n,\n",
    "        n_aie_cols=n_aie_cols,\n",
    "        dtype_in_str=\"i16\",\n",
    "        dtype_out_str=\"i32\",\n",
    "        b_col_maj=b_col_maj,\n",
    "        trace_size=0,\n",
    "        generate_tiles=True,\n",
    "    )"
   ]
  },
  {
   "cell_type": "markdown",
   "id": "d2bb7ebe-1f4d-47e9-b5fe-f47694494e5b",
   "metadata": {},
   "source": [
    "# Generate (static) Data Movement Pattern for A, B, and C\n",
    "\n",
    "Note: It can take some time (order of seconds) to generate each graph\n",
    "\n",
    "## How to Read These Graphs\n",
    "\n",
    "The ***Access Order*** graph is a heatmap showing the order that data is conceptually pushed or pull off the wires in DMA operations. The graph goes from cold (black) to hot (white).\n",
    "\n",
    "The ***Access Count*** graph shows how many times each element is accesses in the sequence of data movement tiles. This is also a heatmap, but typically, each element is access the same amount of times (the max value is displayed in the graph title) so these graphs tend to be a single color. The count can be raised from a single data movement that causes a location to be accessed more than once, or it can be from multiple data movements that access the same element."
   ]
  },
  {
   "cell_type": "markdown",
   "id": "9923b70b-af6e-43ad-af37-6e6568217389",
   "metadata": {},
   "source": [
    "## 1. Data Movement Pattern for A"
   ]
  },
  {
   "cell_type": "code",
   "execution_count": null,
   "id": "8999ac6b-0db5-430c-96f9-7af986289f66",
   "metadata": {},
   "outputs": [],
   "source": [
    "A_tiles.visualize(plot_access_count=True)"
   ]
  },
  {
   "cell_type": "markdown",
   "id": "f5fa745a-a048-4d7c-8759-75e1a3ee5e48",
   "metadata": {},
   "source": [
    "## 2. Data Movement Pattern for B"
   ]
  },
  {
   "cell_type": "code",
   "execution_count": null,
   "id": "0124fb17-10db-425c-b821-604741e30803",
   "metadata": {},
   "outputs": [],
   "source": [
    "B_tiles.visualize(plot_access_count=True)"
   ]
  },
  {
   "cell_type": "markdown",
   "id": "26d279f1-16c3-46e1-b7a5-31aaccd7f76a",
   "metadata": {},
   "source": [
    "## 3. Data Movement Pattern for C"
   ]
  },
  {
   "cell_type": "code",
   "execution_count": null,
   "id": "102a723a-4b9d-4674-afc6-27abe4099de8",
   "metadata": {},
   "outputs": [],
   "source": [
    "C_tiles.visualize(plot_access_count=True)"
   ]
  },
  {
   "cell_type": "markdown",
   "id": "22429a4b-998b-4e5e-885a-1dd05c431a96",
   "metadata": {},
   "source": [
    "# Generate (animated) Data Movement Patterns for A, B, and C\n",
    "\n",
    "Note: It can take some time (order of minutes) to generate each animation."
   ]
  },
  {
   "cell_type": "markdown",
   "id": "2e3ef865-c73e-4d43-9d13-48952de4ed95",
   "metadata": {},
   "source": [
    "## 1. Data Movement Pattern for A"
   ]
  },
  {
   "cell_type": "code",
   "execution_count": null,
   "id": "ca0045c3-baf5-43c9-abc7-a49762e2a02f",
   "metadata": {},
   "outputs": [],
   "source": [
    "a_anim = A_tiles.animate()\n",
    "HTML(a_anim.to_jshtml())"
   ]
  },
  {
   "cell_type": "markdown",
   "id": "37052911-2777-4bee-8fcd-9eb1e0b9cb7f",
   "metadata": {},
   "source": [
    "## 2. Data Movement Pattern for B"
   ]
  },
  {
   "cell_type": "code",
   "execution_count": null,
   "id": "b0dab2f2-c802-4c15-9e06-ab62bfb30e0b",
   "metadata": {},
   "outputs": [],
   "source": [
    "b_anim = B_tiles.animate()\n",
    "HTML(b_anim.to_jshtml())"
   ]
  },
  {
   "cell_type": "markdown",
   "id": "d15fee3b-fa95-4064-9e7c-b0c7a0dcf4b8",
   "metadata": {},
   "source": [
    "## 3. Data Movement Pattern for C"
   ]
  },
  {
   "cell_type": "code",
   "execution_count": null,
   "id": "71bb6385-aa90-4210-97fb-237e662961ac",
   "metadata": {},
   "outputs": [],
   "source": [
    "c_anim = C_tiles.animate()\n",
    "HTML(c_anim.to_jshtml())"
   ]
  }
 ],
 "metadata": {
  "kernelspec": {
   "display_name": "Python 3 (ipykernel)",
   "language": "python",
   "name": "python3"
  },
  "language_info": {
   "codemirror_mode": {
    "name": "ipython",
    "version": 3
   },
   "file_extension": ".py",
   "mimetype": "text/x-python",
   "name": "python",
   "nbconvert_exporter": "python",
   "pygments_lexer": "ipython3",
   "version": "3.10.12"
  }
 },
 "nbformat": 4,
 "nbformat_minor": 5
}
