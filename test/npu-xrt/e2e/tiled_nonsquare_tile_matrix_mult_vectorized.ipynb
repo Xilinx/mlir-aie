{
 "cells": [
  {
   "cell_type": "markdown",
   "id": "4652e37e8c94d9ab",
   "metadata": {
    "collapsed": false,
    "jupyter": {
     "outputs_hidden": false
    }
   },
   "source": [
    "# Tiled (multiplexed), nonsquare, vectorized, matrix multiplication, on AIE"
   ]
  },
  {
   "cell_type": "markdown",
   "id": "f20d88bdd929ab1",
   "metadata": {
    "collapsed": false,
    "jupyter": {
     "outputs_hidden": false
    }
   },
   "source": [
    "## Boilerplate"
   ]
  },
  {
   "cell_type": "code",
   "execution_count": null,
   "id": "initial_id",
   "metadata": {
    "ExecuteTime": {
     "end_time": "2024-02-19T00:25:08.034555792Z",
     "start_time": "2024-02-19T00:25:07.826341320Z"
    }
   },
   "outputs": [],
   "source": [
    "from __future__ import annotations\n",
    "\n",
    "import os\n",
    "import sys\n",
    "\n",
    "from aie.extras.context import ExplicitlyManagedModule, RAIIMLIRContext\n",
    "from aie.extras.dialects.ext import arith, func, linalg\n",
    "from filelock import FileLock\n",
    "import numpy as np\n",
    "\n",
    "from aie.dialects import aie, aiex, aievec, scf, vector\n",
    "from aie.dialects.aie import (\n",
    "    AIEDevice,\n",
    "    DMAChannelDir,\n",
    "    LockAction,\n",
    "    WireBundle,\n",
    ")\n",
    "from aie.dialects.scf import for_ as range_\n",
    "import aie.extras.types as T\n",
    "from aie.ir import AffineMap, AffineDimExpr\n",
    "from aie.util import tiling_calculator_n_tiles\n",
    "from aie.xrt import XCLBin\n",
    "from util import (\n",
    "    compile_with_vectorization,\n",
    "    make_xclbin,\n",
    ")\n",
    "\n",
    "yield_ = lambda: scf.yield_([])\n",
    "\n",
    "DMA = WireBundle.DMA\n",
    "South = WireBundle.South\n",
    "North = WireBundle.North\n",
    "S2MM = DMAChannelDir.S2MM\n",
    "MM2S = DMAChannelDir.MM2S\n",
    "AcquireGreaterEqual = LockAction.AcquireGreaterEqual\n",
    "Release = LockAction.Release\n",
    "\n",
    "M = N = 32\n",
    "\n",
    "tile_rows_A, tile_cols_A = 2, 1\n",
    "tile_rows_B, tile_cols_B = 1, 2\n",
    "tile_rows_C, tile_cols_C = 2, 2\n",
    "\n",
    "tile_m_A, tile_n_A = M // tile_rows_A, N // tile_cols_A\n",
    "tile_m_B, tile_n_B = M // tile_rows_B, N // tile_cols_B\n",
    "tile_m_C, tile_n_C = M // tile_rows_C, N // tile_cols_C\n",
    "\n",
    "print(f\"{tile_m_A=}, {tile_n_A=}\")\n",
    "print(f\"{tile_m_B=}, {tile_n_B=}\")\n",
    "print(f\"{tile_m_C=}, {tile_n_C=}\")"
   ]
  },
  {
   "cell_type": "markdown",
   "id": "878605df42f97f2f",
   "metadata": {
    "collapsed": false,
    "jupyter": {
     "outputs_hidden": false
    }
   },
   "source": [
    "## Context management"
   ]
  },
  {
   "cell_type": "code",
   "execution_count": null,
   "id": "eab52355636c126f",
   "metadata": {
    "ExecuteTime": {
     "end_time": "2024-02-19T00:25:08.077299162Z",
     "start_time": "2024-02-19T00:25:08.076503508Z"
    },
    "collapsed": false,
    "jupyter": {
     "outputs_hidden": false
    }
   },
   "outputs": [],
   "source": [
    "ctx = RAIIMLIRContext()"
   ]
  },
  {
   "cell_type": "markdown",
   "id": "b34b67455baeabff",
   "metadata": {
    "collapsed": false,
    "jupyter": {
     "outputs_hidden": false
    }
   },
   "source": [
    "## Vectorized matmul"
   ]
  },
  {
   "cell_type": "code",
   "execution_count": null,
   "id": "919e340b90f92358",
   "metadata": {
    "ExecuteTime": {
     "end_time": "2024-02-19T00:25:08.222695702Z",
     "start_time": "2024-02-19T00:25:08.076738889Z"
    },
    "collapsed": false,
    "jupyter": {
     "outputs_hidden": false
    }
   },
   "outputs": [],
   "source": [
    "mod_aievec = ExplicitlyManagedModule()\n",
    "\n",
    "\n",
    "@func.func(emit=True, sym_visibility=\"private\")\n",
    "def matmul_i32_i32(\n",
    "    A: T.memref(tile_m_A, tile_n_A, T.i32()),\n",
    "    B: T.memref(tile_m_B, tile_n_B, T.i32()),\n",
    "    C: T.memref(tile_m_C, tile_n_C, T.i32()),\n",
    "):\n",
    "    vec16int32 = T.vector(16, T.i32())\n",
    "    vec16int64 = T.vector(16, T.i64())\n",
    "    d1 = AffineDimExpr.get(1)\n",
    "    perm_map = AffineMap.get(2, 0, [d1])\n",
    "\n",
    "    c0 = arith.constant(0, index=True)\n",
    "    for j in range_(0, 16):\n",
    "        c_vec = aievec.upd(vec16int32, C, [j, c0])\n",
    "        accum = aievec.ups(vec16int64, c_vec)\n",
    "        for k in range_(0, 32, 8):\n",
    "            a_vec = aievec.upd(vec16int32, A, [j, k])\n",
    "            for i in range(0, 8):\n",
    "                broad_a = aievec.broadcast(vec16int32, a_vec, idx=i)\n",
    "                b_vec = aievec.upd(vec16int32, B, [k + i, c0])\n",
    "                accum = aievec.mac_elem(vec16int64, broad_a, b_vec, accum)\n",
    "\n",
    "            shift_round_sat = aievec.srs(vec16int32, accum, arith.constant(0))\n",
    "            vector.transfer_write(\n",
    "                None,\n",
    "                shift_round_sat,\n",
    "                C,\n",
    "                [j, c0],\n",
    "                permutation_map=perm_map,\n",
    "                in_bounds=[True],\n",
    "            )\n",
    "            yield_()\n",
    "        yield_()\n",
    "\n",
    "\n",
    "mod_aievec = mod_aievec.finish()\n",
    "print(mod_aievec)\n",
    "print(mod_aievec.operation.verify())"
   ]
  },
  {
   "cell_type": "code",
   "execution_count": null,
   "id": "83ca48441fb405d9",
   "metadata": {
    "ExecuteTime": {
     "start_time": "2024-02-19T00:25:08.222428711Z"
    },
    "collapsed": false,
    "jupyter": {
     "outputs_hidden": false
    }
   },
   "outputs": [],
   "source": [
    "mod_aie = ExplicitlyManagedModule()"
   ]
  },
  {
   "cell_type": "markdown",
   "id": "9579d155c62c4137",
   "metadata": {
    "collapsed": false,
    "jupyter": {
     "outputs_hidden": false
    }
   },
   "source": [
    "## (Manual) switch configuration"
   ]
  },
  {
   "cell_type": "code",
   "execution_count": null,
   "id": "87e5df9df09d7915",
   "metadata": {
    "ExecuteTime": {
     "end_time": "2024-02-19T00:25:08.224606834Z",
     "start_time": "2024-02-19T00:25:08.223156024Z"
    },
    "collapsed": false,
    "jupyter": {
     "outputs_hidden": false
    }
   },
   "outputs": [],
   "source": [
    "def switch_config(tile_0_0, tile_0_1, tile_0_2):\n",
    "    @aie.switchbox(tile_0_0)\n",
    "    def switchbox_0_0():\n",
    "        aie.connect(South, 3, North, 0)\n",
    "        aie.connect(South, 7, North, 1)\n",
    "        aie.connect(North, 0, South, 2)\n",
    "        aie.end()\n",
    "\n",
    "    @aie.shim_mux(tile_0_0)\n",
    "    def shim_mux_0_0():\n",
    "        aie.connect(DMA, 0, North, 3)\n",
    "        aie.connect(DMA, 1, North, 7)\n",
    "        aie.connect(North, 2, DMA, 0)\n",
    "        aie.end()\n",
    "\n",
    "    @aie.switchbox(tile_0_1)\n",
    "    def switchbox_0_1():\n",
    "        aie.connect(South, 0, DMA, 0)\n",
    "        aie.connect(DMA, 0, North, 0)\n",
    "        aie.connect(South, 1, DMA, 1)\n",
    "        aie.connect(DMA, 1, North, 1)\n",
    "        aie.connect(North, 0, DMA, 2)\n",
    "        aie.connect(DMA, 2, South, 0)\n",
    "        aie.end()\n",
    "\n",
    "    @aie.switchbox(tile_0_2)\n",
    "    def switchbox_0_2():\n",
    "        aie.connect(South, 0, DMA, 0)\n",
    "        aie.connect(South, 1, DMA, 1)\n",
    "        aie.connect(DMA, 0, South, 0)\n",
    "        aie.end()"
   ]
  },
  {
   "cell_type": "markdown",
   "id": "98a0c035a8d0bef9",
   "metadata": {
    "collapsed": false,
    "jupyter": {
     "outputs_hidden": false
    }
   },
   "source": [
    "## Data movement\n",
    " \n",
    "For a tiling pattern of `[[a0],[a1]] * [b0, b1]` i.e., `A` becomes two \"fat rows\", `B` becomes two \"fat columns\", and `C` is computed across 4 tiles (4 steps in this example). Note, this implies `a0` gets broadcast (in space or time) and `a1` gets broadcast (first product is `a0 * b0`, second product is `a0 * b1` and so on).\n"
   ]
  },
  {
   "cell_type": "code",
   "execution_count": null,
   "id": "8834dee13f418424",
   "metadata": {
    "ExecuteTime": {
     "start_time": "2024-02-19T00:25:08.223943954Z"
    },
    "collapsed": false,
    "jupyter": {
     "outputs_hidden": false
    }
   },
   "outputs": [],
   "source": [
    "def data_movement(tile_0_1, tile_0_2):\n",
    "    # in\n",
    "    buffer_0_2_a = aie.buffer(tile_0_2, (tile_m_A, tile_n_A), T.i32())\n",
    "    buffer_0_2_b = aie.buffer(tile_0_2, (tile_m_B, tile_n_B), T.i32())\n",
    "    # out\n",
    "    buffer_0_2_c = aie.buffer(tile_0_2, (tile_m_C, tile_n_C), T.i32())\n",
    "\n",
    "    # input\n",
    "    lock_0_1_read_in_a = aie.lock(tile_0_1, init=1)\n",
    "    lock_0_1_write_out_a = aie.lock(tile_0_1, init=0)\n",
    "\n",
    "    lock_0_2_read_in_a = aie.lock(tile_0_2, init=1)\n",
    "    lock_0_2_use_a = aie.lock(tile_0_2, init=0)\n",
    "    lock_0_2_read_in_b = aie.lock(tile_0_2, init=1)\n",
    "    lock_0_2_use_b = aie.lock(tile_0_2, init=0)\n",
    "    lock_0_2_use_c = aie.lock(tile_0_2, init=1)\n",
    "    lock_0_2_write_out_c = aie.lock(tile_0_2, init=0)\n",
    "\n",
    "    @aie.mem(tile_0_2)\n",
    "    def mem_0_2():\n",
    "        # input\n",
    "        @aie.dma(S2MM, channel_index=0)\n",
    "        def dma1():\n",
    "            aiex.process_bd(lock_0_2_read_in_a, buffer_0_2_a, lock_0_2_use_a)\n",
    "\n",
    "        @aie.dma(S2MM, channel_index=1)\n",
    "        def dma2():\n",
    "            aiex.process_bd(lock_0_2_read_in_b, buffer_0_2_b, lock_0_2_use_b)\n",
    "\n",
    "        # output\n",
    "        @aie.dma(MM2S, channel_index=0)\n",
    "        def dma3():\n",
    "            aiex.process_bd(lock_0_2_write_out_c, buffer_0_2_c, lock_0_2_use_c)\n",
    "\n",
    "        aie.end()\n",
    "\n",
    "    @aie.memtile_dma(tile_0_1)\n",
    "    def memtile_dma_0_1():\n",
    "        # input flow\n",
    "        buffer_0_1_a = aie.buffer(tile_0_1, (tile_m_A, tile_n_A), T.i32())\n",
    "        buffer_0_1_b = aie.buffer(tile_0_1, (tile_m_B, tile_n_B), T.i32())\n",
    "        # output flow\n",
    "        buffer_0_1_c = aie.buffer(tile_0_1, (tile_m_C, tile_n_C), T.i32())\n",
    "\n",
    "        @aie.dma(S2MM, channel_index=0)\n",
    "        def dma1():\n",
    "            aiex.process_bd(lock_0_1_read_in_a, buffer_0_1_a, lock_0_1_write_out_a)\n",
    "\n",
    "        @aie.dma(MM2S, channel_index=0, num_blocks=2)\n",
    "        def dma2():\n",
    "            aiex.process_bd(lock_0_1_write_out_a, buffer_0_1_a, lock_0_1_write_out_a)\n",
    "\n",
    "        @aie.another_bd(dma2)\n",
    "        def dma2point5():\n",
    "            aiex.process_bd(lock_0_1_write_out_a, buffer_0_1_a, lock_0_1_read_in_a)\n",
    "\n",
    "        aiex.forward_bd(tile_0_1, buffer_0_1_b, s2mm_channel_idx=1)\n",
    "        aiex.forward_bd(tile_0_1, buffer_0_1_c, s2mm_channel_idx=2)\n",
    "\n",
    "        aie.end()\n",
    "\n",
    "    return (\n",
    "        buffer_0_2_a,\n",
    "        buffer_0_2_b,\n",
    "        buffer_0_2_c,\n",
    "        lock_0_2_use_a,\n",
    "        lock_0_2_read_in_a,\n",
    "        lock_0_2_use_b,\n",
    "        lock_0_2_read_in_b,\n",
    "        lock_0_2_use_c,\n",
    "        lock_0_2_write_out_c,\n",
    "    )"
   ]
  },
  {
   "cell_type": "markdown",
   "id": "715c1f8176f04a1f",
   "metadata": {
    "collapsed": false,
    "jupyter": {
     "outputs_hidden": false
    }
   },
   "source": [
    "## Tensor addressing and command/control processor"
   ]
  },
  {
   "cell_type": "code",
   "execution_count": null,
   "id": "111f17f9d55663a6",
   "metadata": {
    "ExecuteTime": {
     "end_time": "2024-02-19T00:25:08.225369144Z",
     "start_time": "2024-02-19T00:25:08.224822527Z"
    },
    "collapsed": false,
    "jupyter": {
     "outputs_hidden": false
    }
   },
   "outputs": [],
   "source": [
    "def command_control():\n",
    "    (\n",
    "        _,\n",
    "        _,\n",
    "        (d1_size_A, d1_stride_A),\n",
    "        (d0_size_A, d0_stride_A),\n",
    "    ) = tiling_calculator_n_tiles(\n",
    "        M, N, n_tile_rows=tile_rows_A, n_tile_cols=tile_cols_A\n",
    "    )\n",
    "    (\n",
    "        _,\n",
    "        _,\n",
    "        (d1_size_B, d1_stride_B),\n",
    "        (d0_size_B, d0_stride_B),\n",
    "    ) = tiling_calculator_n_tiles(\n",
    "        M, N, n_tile_rows=tile_rows_B, n_tile_cols=tile_cols_B\n",
    "    )\n",
    "    (\n",
    "        _,\n",
    "        _,\n",
    "        (d1_size_C, d1_stride_C),\n",
    "        (d0_size_C, d0_stride_C),\n",
    "    ) = tiling_calculator_n_tiles(\n",
    "        M, N, n_tile_rows=tile_rows_C, n_tile_cols=tile_cols_C\n",
    "    )\n",
    "\n",
    "    col = 0\n",
    "    # in A\n",
    "    channel_index = 0\n",
    "    ddr_id = 0\n",
    "    offsets = [\n",
    "        0,\n",
    "        # A tiles are \"fat\" so need to offset by rows (i.e. d1 dim)\n",
    "        0 + d1_size_A * d1_stride_A,\n",
    "    ]\n",
    "    npu_insts = aiex.npu.get_prolog()\n",
    "    for i, bd_id in enumerate(range(2)):\n",
    "        npu_insts.extend(\n",
    "            aiex.npu.writebd_shimtile(\n",
    "                col,\n",
    "                bd_id,\n",
    "                buffer_length=tile_m_A * tile_n_A,\n",
    "                buffer_offset=offsets[i],\n",
    "                ddr_id=ddr_id,\n",
    "            )\n",
    "        )\n",
    "        npu_insts.extend(aiex.npu.write32(MM2S, channel_index, col, bd_id))\n",
    "\n",
    "    # in B\n",
    "    channel_index = 1\n",
    "    ddr_id = 1\n",
    "    for bd_id in range(bd_id + 1, bd_id + 1 + 4, 2):\n",
    "        npu_insts.extend(\n",
    "            aiex.npu.writebd_shimtile(\n",
    "                col,\n",
    "                bd_id,\n",
    "                buffer_length=tile_m_B * tile_n_B,\n",
    "                buffer_offset=0,\n",
    "                ddr_id=ddr_id,\n",
    "                d1_size=d1_size_B,\n",
    "                d1_stride=d1_stride_B,\n",
    "                d0_size=d0_size_B,\n",
    "                d0_stride=d0_stride_B,\n",
    "            )\n",
    "        )\n",
    "        npu_insts.extend(aiex.npu.write32(MM2S, channel_index, col, bd_id))\n",
    "        bd_id += 1\n",
    "        # B tiles are \"tall\" so need to offset by cols (i.e. d0 dim)\n",
    "        npu_insts.extend(\n",
    "            aiex.npu.writebd_shimtile(\n",
    "                col,\n",
    "                bd_id,\n",
    "                buffer_length=tile_m_B * tile_n_B,\n",
    "                buffer_offset=d0_size_B * d0_stride_B,\n",
    "                ddr_id=ddr_id,\n",
    "                d1_size=d1_size_B,\n",
    "                d1_stride=d1_stride_B,\n",
    "                d0_size=d0_size_B,\n",
    "                d0_stride=d0_stride_B,\n",
    "            )\n",
    "        )\n",
    "        npu_insts.extend(aiex.npu.write32(MM2S, channel_index, col, bd_id))\n",
    "\n",
    "    # out C\n",
    "    channel_index = 0\n",
    "    ddr_id = 2\n",
    "    offsets = [\n",
    "        0,\n",
    "        0 + d0_size_C * d0_stride_C,\n",
    "        d1_size_C * d1_stride_C,\n",
    "        d1_size_C * d1_stride_C + d0_size_C * d0_stride_C,\n",
    "    ]\n",
    "\n",
    "    for i, bd_id in enumerate(range(bd_id + 1, bd_id + 1 + 4)):\n",
    "        npu_insts.extend(\n",
    "            aiex.npu.writebd_shimtile(\n",
    "                col,\n",
    "                bd_id,\n",
    "                buffer_length=tile_m_C * tile_n_C,\n",
    "                buffer_offset=offsets[i],\n",
    "                ddr_id=ddr_id,\n",
    "                d1_size=d1_size_C,\n",
    "                d1_stride=d1_stride_C,\n",
    "                d0_size=d0_size_C,\n",
    "                d0_stride=d0_stride_C,\n",
    "            )\n",
    "        )\n",
    "        npu_insts.extend(aiex.npu.write32(S2MM, channel_index, col, bd_id))\n",
    "        npu_insts.extend(\n",
    "            aiex.npu.sync(\n",
    "                channel=0,\n",
    "                column=0,\n",
    "                column_num=1,\n",
    "                direction=0,\n",
    "                row=0,\n",
    "                row_num=1,\n",
    "            )\n",
    "        )\n",
    "\n",
    "    return npu_insts"
   ]
  },
  {
   "cell_type": "markdown",
   "id": "c1ab7403fb396b51",
   "metadata": {
    "collapsed": false,
    "jupyter": {
     "outputs_hidden": false
    }
   },
   "source": [
    "## Draw the rest of the owl (assemble device module and orchestrate tiling)\n",
    "\n",
    "Note, maybe tiling isn't the right word here (multiplexing in time) but this example naturally extends to an actual 2 x 2 tiling."
   ]
  },
  {
   "cell_type": "code",
   "execution_count": null,
   "id": "3b00d04ae7eccaa0",
   "metadata": {
    "ExecuteTime": {
     "start_time": "2024-02-19T00:25:08.225604716Z"
    },
    "collapsed": false,
    "jupyter": {
     "outputs_hidden": false
    }
   },
   "outputs": [],
   "source": [
    "@aie.device(AIEDevice.npu)\n",
    "def npu():\n",
    "    matmul_i32_i32.emit(decl=True)\n",
    "    tile_0_0 = aie.tile(0, 0)\n",
    "    tile_0_1 = aie.tile(0, 1)\n",
    "    tile_0_2 = aie.tile(0, 2)\n",
    "\n",
    "    switch_config(tile_0_0, tile_0_1, tile_0_2)\n",
    "    (\n",
    "        buffer_0_2_a,\n",
    "        buffer_0_2_b,\n",
    "        buffer_0_2_c,\n",
    "        lock_0_2_use_a,\n",
    "        lock_0_2_read_in_a,\n",
    "        lock_0_2_use_b,\n",
    "        lock_0_2_read_in_b,\n",
    "        lock_0_2_use_c,\n",
    "        lock_0_2_write_out_c,\n",
    "    ) = data_movement(tile_0_1, tile_0_2)\n",
    "\n",
    "    @aie.core(tile_0_2)\n",
    "    def core():\n",
    "        for _ in range_(0, tile_rows_C):\n",
    "            for _ in range_(0, tile_cols_C):\n",
    "                with (\n",
    "                    aiex.hold_lock(lock_0_2_use_a, lock_0_2_read_in_a),\n",
    "                    aiex.hold_lock(lock_0_2_use_b, lock_0_2_read_in_b),\n",
    "                    aiex.hold_lock(lock_0_2_use_c, lock_0_2_write_out_c),\n",
    "                ):\n",
    "                    linalg.fill(0, buffer_0_2_c)\n",
    "                    matmul_i32_i32(buffer_0_2_a, buffer_0_2_b, buffer_0_2_c)\n",
    "\n",
    "                yield_()\n",
    "            yield_()"
   ]
  },
  {
   "cell_type": "code",
   "execution_count": null,
   "id": "8650e6f6b34b4aaf",
   "metadata": {
    "ExecuteTime": {
     "start_time": "2024-02-19T00:25:08.226146764Z"
    },
    "collapsed": false,
    "jupyter": {
     "outputs_hidden": false
    }
   },
   "outputs": [],
   "source": [
    "mod_aie.finish()\n",
    "print(mod_aie.module)\n",
    "print(mod_aie.module.operation.verify())"
   ]
  },
  {
   "cell_type": "markdown",
   "id": "177132a2e6caa754",
   "metadata": {
    "collapsed": false,
    "jupyter": {
     "outputs_hidden": false
    }
   },
   "source": [
    "## Compile using chess"
   ]
  },
  {
   "cell_type": "code",
   "execution_count": null,
   "id": "3019770543315603",
   "metadata": {
    "ExecuteTime": {
     "start_time": "2024-02-19T00:25:08.227254397Z"
    },
    "collapsed": false,
    "jupyter": {
     "outputs_hidden": false
    }
   },
   "outputs": [],
   "source": [
    "compile_with_vectorization(mod_aie, mod_aievec, workdir)"
   ]
  },
  {
   "cell_type": "markdown",
   "id": "f941a5db4c085d04",
   "metadata": {
    "collapsed": false,
    "jupyter": {
     "outputs_hidden": false
    }
   },
   "source": [
    "# Run"
   ]
  },
  {
   "cell_type": "code",
   "execution_count": null,
   "id": "8b724c521306a8cf",
   "metadata": {
    "ExecuteTime": {
     "start_time": "2024-02-19T00:25:08.227353727Z"
    },
    "collapsed": false,
    "jupyter": {
     "outputs_hidden": false
    }
   },
   "outputs": [],
   "source": [
    "xclbin_path = make_xclbin(mod_aie, workdir)\n",
    "with FileLock(\"/tmp/npu.lock\"):\n",
    "    xclbin = XCLBin(xclbin_path, \"MLIR_AIE\")\n",
    "    npu_insts = command_control()\n",
    "    xclbin.load_npu_instructions(npu_insts)\n",
    "\n",
    "    wrap_A, wrap_B, wrap_C = map(\n",
    "        np.asarray, xclbin.mmap_buffers([(M, N), (M, N), (M, N)], np.int32)\n",
    "    )\n",
    "\n",
    "    A = np.random.randint(0, 10, (M, N), dtype=np.int32)\n",
    "    B = np.random.randint(0, 10, (M, N), dtype=np.int32)\n",
    "    C = np.zeros((M, N), dtype=np.int32)\n",
    "\n",
    "    np.copyto(wrap_A, A, casting=\"no\")\n",
    "    np.copyto(wrap_B, B, casting=\"no\")\n",
    "    np.copyto(wrap_C, C, casting=\"no\")\n",
    "\n",
    "    xclbin.sync_buffers_to_device()\n",
    "    xclbin.run()\n",
    "    print(\"Running kernel\")\n",
    "    xclbin.wait(30)\n",
    "    xclbin.sync_buffers_from_device()\n",
    "\n",
    "    if not np.array_equal(A @ B, wrap_C):\n",
    "        with np.printoptions(threshold=sys.maxsize, linewidth=sys.maxsize):\n",
    "            print(A @ B)\n",
    "            print(wrap_C)\n",
    "            assert False"
   ]
  }
 ],
 "metadata": {
  "kernelspec": {
   "display_name": "Python 3 (ipykernel)",
   "language": "python",
   "name": "python3"
  },
  "language_info": {
   "codemirror_mode": {
    "name": "ipython",
    "version": 3
   },
   "file_extension": ".py",
   "mimetype": "text/x-python",
   "name": "python",
   "nbconvert_exporter": "python",
   "pygments_lexer": "ipython3",
   "version": "3.11.5"
  }
 },
 "nbformat": 4,
 "nbformat_minor": 5
}
