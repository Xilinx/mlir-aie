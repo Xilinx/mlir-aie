{
 "cells": [
  {
   "cell_type": "markdown",
   "metadata": {},
   "source": [
    "# Understanding the `compileconfig` Decorator"
   ]
  },
  {
   "cell_type": "markdown",
   "metadata": {},
   "source": [
    "The `compileconfig` decorator is a powerful tool for compiling and managing AI Engine kernels. It provides a flexible way to control the compilation process, including specifying source files, compilation flags, and even using pre-compiled object files."
   ]
  },
  {
   "cell_type": "markdown",
   "metadata": {},
   "source": [
    "## Basic Usage"
   ]
  },
  {
   "cell_type": "markdown",
   "metadata": {},
   "source": [
    "The `compileconfig` decorator returns a `Compilable` object, which encapsulates the function and its compilation configuration. The `jit` decorator can then be used to execute the compiled kernel. The `jit` decorator returns a `Callable` object."
   ]
  },
  {
   "cell_type": "code",
   "execution_count": null,
   "metadata": {},
   "outputs": [],
   "source": [
    "import aie.iron as iron\n",
    "import numpy as np\n",
    "\n",
    "\n",
    "@iron.compileconfig()\n",
    "def vector_add(input0, input1, output):\n",
    "    # ... kernel implementation ...\n",
    "    pass\n",
    "\n",
    "\n",
    "print(f\"'vector_add' is of type: {type(vector_add)}\")\n",
    "\n",
    "\n",
    "@iron.jit\n",
    "def jitted_vector_add(input0, input1, output):\n",
    "    return vector_add(input0, input1, output)\n",
    "\n",
    "\n",
    "print(f\"'jitted_vector_add' is of type: {type(jitted_vector_add)}\")"
   ]
  },
  {
   "cell_type": "markdown",
   "metadata": {},
   "source": [
    "## Accessing the `Compilable` Object"
   ]
  },
  {
   "cell_type": "markdown",
   "metadata": {},
   "source": [
    "You can access the `Compilable` object used internally by the `jit` decorator through the `compilable` attribute of the decorated function."
   ]
  },
  {
   "cell_type": "code",
   "execution_count": null,
   "metadata": {},
   "outputs": [],
   "source": [
    "compilable_obj = jitted_vector_add.compilable\n",
    "print(compilable_obj.to_json())"
   ]
  },
  {
   "cell_type": "markdown",
   "metadata": {},
   "source": [
    "## The `Callable` Class"
   ]
  },
  {
   "cell_type": "markdown",
   "metadata": {},
   "source": [
    "The `jit` decorator returns a `Callable` object. This object is callable, and when called, it will perform the JIT compilation and execution of the kernel."
   ]
  },
  {
   "cell_type": "code",
   "execution_count": null,
   "metadata": {},
   "outputs": [],
   "source": [
    "jitted_vector_add = iron.jit(vector_add)\n",
    "assert isinstance(jitted_vector_add, iron.Callable)"
   ]
  },
  {
   "cell_type": "markdown",
   "metadata": {},
   "source": [
    "## Stacking Decorators"
   ]
  },
  {
   "cell_type": "markdown",
   "metadata": {},
   "source": [
    "You can stack the `jit` and `compileconfig` decorators to create a JIT-compiled function with a specific compilation configuration."
   ]
  },
  {
   "cell_type": "code",
   "execution_count": null,
   "metadata": {},
   "outputs": [],
   "source": [
    "@iron.jit\n",
    "@iron.compileconfig(metaargs={\"my_var\": 42})\n",
    "def my_jitted_kernel(input0, output):\n",
    "    # ... kernel implementation ...\n",
    "    pass"
   ]
  },
  {
   "cell_type": "markdown",
   "metadata": {},
   "source": [
    "## Using Pre-compiled Artifacts with `jit`"
   ]
  },
  {
   "cell_type": "markdown",
   "metadata": {},
   "source": [
    "You can also use a `PreCompiled` object with the `jit` decorator to create a JIT-compiled function that uses pre-compiled artifacts."
   ]
  },
  {
   "cell_type": "code",
   "execution_count": null,
   "metadata": {},
   "outputs": [],
   "source": [
    "precompiled = iron.PreCompiled(xclbin_path=\"path/to/my_kernel.xclbin\", insts_path=\"path/to/my_kernel.insts\")\n",
    "\n",
    "@iron.jit\n",
    "def my_precompiled_kernel(input0, output):\n",
    "    return precompiled(input0, output)"
   ]
  },
  {
   "cell_type": "markdown",
   "metadata": {},
   "source": [
    "## Compiling with External Source Files"
   ]
  },
  {
   "cell_type": "markdown",
   "metadata": {},
   "source": [
    "You can include external C++ source files in the compilation by using the `source_files` argument. You can also provide compilation flags and include paths."
   ]
  },
  {
   "cell_type": "code",
   "execution_count": null,
   "metadata": {},
   "outputs": [],
   "source": [
    "@iron.compileconfig(\n",
    "    source_files=[\"my_kernel.cpp\"],\n",
    "    compile_flags=[\"-O3\"],\n",
    "    include_paths=[\"/path/to/includes\"],\n",
    ")\n",
    "def my_kernel_with_extern(input0, output):\n",
    "    # ... kernel implementation ...\n",
    "    pass"
   ]
  },
  {
   "cell_type": "markdown",
   "metadata": {},
   "source": [
    "## Using Pre-compiled Object Files"
   ]
  },
  {
   "cell_type": "markdown",
   "metadata": {},
   "source": [
    "If you have pre-compiled object files, you can use them directly by passing them to the `object_files` argument. This will skip the C++ compilation step."
   ]
  },
  {
   "cell_type": "code",
   "execution_count": null,
   "metadata": {},
   "outputs": [],
   "source": [
    "@iron.compileconfig(object_files=[\"my_kernel.o\"])\n",
    "def my_kernel_with_object_files(input0, output):\n",
    "    # ... kernel implementation ...\n",
    "    pass"
   ]
  },
  {
   "cell_type": "markdown",
   "metadata": {},
   "source": [
    "## Compile-Time Arguments"
   ]
  },
  {
   "cell_type": "markdown",
   "metadata": {},
   "source": [
    "Compile-time arguments allow you to control the compilation process using Python variables. You can define compile-time arguments by passing a dictionary to the `metaargs` argument. These variables are then available in the kernel implementation using the `get_compile_arg` function."
   ]
  },
  {
   "cell_type": "code",
   "execution_count": null,
   "metadata": {},
   "outputs": [],
   "source": [
    "@iron.compileconfig(metaargs={\"my_var\": 42})\n",
    "def my_compile_arg_kernel(input0, output):\n",
    "    my_var = iron.get_compile_arg(\"my_var\")\n",
    "    # ... use my_var in the kernel implementation ...\n",
    "    pass"
   ]
  },
  {
   "cell_type": "markdown",
   "metadata": {},
   "source": [
    "## JSON Serialization"
   ]
  },
  {
   "cell_type": "markdown",
   "metadata": {},
   "source": [
    "A `Compilable` object can be serialized to and from JSON, which is useful for storing and sharing compilation configurations."
   ]
  },
  {
   "cell_type": "code",
   "execution_count": null,
   "metadata": {},
   "outputs": [],
   "source": [
    "compilable = iron.compileconfig(my_kernel_with_extern)\n",
    "json_str = compilable.to_json()\n",
    "print(json_str)\n",
    "\n",
    "new_compilable = iron.Compilable.from_json(json_str, my_kernel_with_extern)"
   ]
  },
  {
   "cell_type": "markdown",
   "metadata": {},
   "source": [
    "### JSON Output"
   ]
  },
  {
   "cell_type": "markdown",
   "metadata": {},
   "source": [
    "## Getting Artifacts"
   ]
  },
  {
   "cell_type": "markdown",
   "metadata": {},
   "source": [
    "You can get the paths to the compilation artifacts using the `get_artifacts` method of the `Compilable` object."
   ]
  },
  {
   "cell_type": "code",
   "execution_count": null,
   "metadata": {},
   "outputs": [],
   "source": [
    "jitted_vector_add(\n",
    "    np.ones(16, dtype=np.int32),\n",
    "    np.ones(16, dtype=np.int32),\n",
    "    np.zeros(16, dtype=np.int32),\n",
    ")\n",
    "xclbin_path, insts_path = jitted_vector_add.compilable.get_artifacts()\n",
    "print(f\"xclbin path: {xclbin_path}\")\n",
    "print(f\"insts path: {insts_path}\")"
   ]
  }
 ],
 "metadata": {
  "kernelspec": {
   "display_name": "Python 3",
   "language": "python",
   "name": "python3"
  },
  "language_info": {
   "codemirror_mode": {
    "name": "ipython",
    "version": 3
   },
   "file_extension": ".py",
   "mimetype": "text/x-python",
   "name": "python",
   "nbconvert_exporter": "python",
   "pygments_lexer": "ipython3",
   "version": "3.9.7"
  }
 },
 "nbformat": 4,
 "nbformat_minor": 4
}
